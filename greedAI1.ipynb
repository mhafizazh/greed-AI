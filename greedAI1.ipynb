{
  "nbformat": 4,
  "nbformat_minor": 0,
  "metadata": {
    "colab": {
      "provenance": [],
      "authorship_tag": "ABX9TyOsGZujoB1D37bCoVBi8Omt",
      "include_colab_link": true
    },
    "kernelspec": {
      "name": "python3",
      "display_name": "Python 3"
    },
    "language_info": {
      "name": "python"
    }
  },
  "cells": [
    {
      "cell_type": "markdown",
      "metadata": {
        "id": "view-in-github",
        "colab_type": "text"
      },
      "source": [
        "<a href=\"https://colab.research.google.com/github/mhafizazh/greed-AI/blob/main/greedAI1.ipynb\" target=\"_parent\"><img src=\"https://colab.research.google.com/assets/colab-badge.svg\" alt=\"Open In Colab\"/></a>"
      ]
    },
    {
      "cell_type": "code",
      "execution_count": null,
      "metadata": {
        "id": "oV_4jVFJH4lt"
      },
      "outputs": [],
      "source": [
        "import numpy as np\n",
        "import matplotlib.pyplot as plt\n",
        "import pandas as pd"
      ]
    },
    {
      "cell_type": "code",
      "source": [
        "dataset = pd.read_csv('datasetModel.csv')\n",
        "X = dataset.iloc[:, :-1].values\n",
        "y = dataset.iloc[:, -1].values"
      ],
      "metadata": {
        "id": "T1qqCf5JIa0X"
      },
      "execution_count": null,
      "outputs": []
    },
    {
      "cell_type": "code",
      "source": [
        "print(X)"
      ],
      "metadata": {
        "colab": {
          "base_uri": "https://localhost:8080/"
        },
        "id": "YhEI9sYQI51c",
        "outputId": "d44cb019-3379-42fe-bcfc-ebd450de85fb"
      },
      "execution_count": null,
      "outputs": [
        {
          "output_type": "stream",
          "name": "stdout",
          "text": [
            "[[\"I've been feeling a bit tired lately.\"]\n",
            " ['I am experiencing chest pain and difficulty breathing.']\n",
            " ['My headache has been persistent for two weeks.']\n",
            " [\"I can't stop coughing and I'm running a high fever.\"]\n",
            " ['I have a minor cut on my finger.']\n",
            " [\"I'm having a severe allergic reaction.\"]\n",
            " ['I just need a prescription refill, no new symptoms.']\n",
            " [\"I fell and now my leg is at an odd angle and I can't move it.\"]\n",
            " [\"I've been having trouble sleeping recently.\"]\n",
            " [\"I'm feeling a little anxious about work.\"]\n",
            " ['I am bleeding profusely and feel dizzy.']\n",
            " [\"I think I ate something bad, but I'm not sure.\"]\n",
            " ['I am having severe abdominal pain.']\n",
            " ['My child swallowed a small toy.']\n",
            " ['I have a regular headache.']\n",
            " ['I have been vomiting non-stop for hours.']\n",
            " ['I need to update my medical history.']\n",
            " [\"I'm experiencing shortness of breath and heart palpitations.\"]\n",
            " ['I have a mild rash on my arm.']\n",
            " [\"I think I broke my arm, it's swollen and painful.\"]\n",
            " ['I slipped in the shower but feel fine now.']\n",
            " [\"I'm having chest pains and my left arm feels numb.\"]\n",
            " ['I have a slight fever but no other symptoms.']\n",
            " [\"I'm experiencing extreme difficulty in breathing.\"]\n",
            " [\"I've been having some back pain when I sit.\"]\n",
            " [\"I've lost vision suddenly in one eye.\"]\n",
            " [\"I'm just calling for a regular check-up appointment.\"]\n",
            " [\"I've been feeling very depressed and hopeless.\"]\n",
            " ['My stomach has been a bit upset today.']\n",
            " [\"I accidentally cut my finger, but it's not deep.\"]\n",
            " ['I am having persistent palpitations and dizziness.']\n",
            " ['I have a mild sore throat since this morning.']\n",
            " [\"I've fallen and I can't get up, I might have broken something.\"]\n",
            " ['I have a persistent cough but no fever.']\n",
            " [\"I'm having a severe headache and blurred vision.\"]\n",
            " ['I just need some advice on medication side effects.']\n",
            " [\"I'm experiencing a sudden severe pain in my lower abdomen.\"]\n",
            " ['I have a chronic condition, but no new symptoms.']\n",
            " [\"I'm feeling very disoriented and confused.\"]\n",
            " [\"I have a small burn from cooking, it's not serious.\"]\n",
            " [\"I'm experiencing severe dehydration symptoms.\"]\n",
            " [\"I've been feeling a bit under the weather, nothing serious.\"]\n",
            " ['I am suddenly struggling to speak clearly.']\n",
            " ['I have a long-term condition, checking in as scheduled.']\n",
            " [\"I'm having thoughts of harming myself.\"]\n",
            " ['My leg has been swollen and painful for a few days.']\n",
            " ['I am unable to move my arm after a fall.']\n",
            " [\"I have a chronic headache, but it's my normal.\"]\n",
            " [\"I'm experiencing severe chest pain and sweating.\"]\n",
            " ['I need a new prescription for my regular medication.']\n",
            " [\"I'm seeing double suddenly and feel nauseous.\"]\n",
            " ['I have been experiencing mild knee pain during my morning jog.']\n",
            " [\"I think I'm having an asthma attack and can't find my inhaler.\"]\n",
            " [\"I've got a bit of a sunburn from the beach.\"]\n",
            " [\"I'm feeling extremely weak and my heart is racing.\"]\n",
            " [\"I have an earache that's been bothering me.\"]\n",
            " [\"I'm unable to swallow and my throat is swelling.\"]\n",
            " [\"I've been feeling a bit bloated after meals.\"]\n",
            " ['I am having intense, sharp chest pain right now.']\n",
            " ['My child has a low-grade fever but is playing and eating well.']\n",
            " [\"I'm shaking uncontrollably and feel faint.\"]\n",
            " [\"I've been sneezing a lot, probably allergies.\"]\n",
            " [\"I'm experiencing a sudden, severe headache.\"]\n",
            " [\"I have a small rash that's a bit itchy.\"]\n",
            " [\"I'm having difficulty breathing and my face is swelling.\"]\n",
            " ['I feel a little dizzy when I stand up too fast.']\n",
            " [\"I've been coughing up blood.\"]\n",
            " [\"I have a toothache that's been bothering me.\"]\n",
            " ['I am experiencing paralysis on one side of my body.']\n",
            " [\"I've got a minor headache, probably due to dehydration.\"]\n",
            " [\"I've been experiencing some chest discomfort, but it comes and goes.\"]\n",
            " [\"I suddenly can't see out of my right eye.\"]\n",
            " [\"I think I have food poisoning, but I'm not vomiting.\"]\n",
            " [\"I'm experiencing extreme pain in my abdomen and vomiting blood.\"]\n",
            " ['I have a sore throat and a mild cough.']\n",
            " [\"I'm feeling dizzy, disoriented, and having chest pains.\"]\n",
            " [\"I have a chronic backache, but it's my usual pain.\"]\n",
            " [\"I'm having severe difficulty in breathing and feeling faint.\"]\n",
            " [\"I'm a bit tired today, probably didn't sleep well.\"]\n",
            " [\"I've lost feeling in my legs suddenly.\"]\n",
            " [\"I've been experiencing mild, occasional headaches.\"]\n",
            " ['I am having severe chest pains and feel lightheaded.']\n",
            " ['I have a chronic cough, but no changes recently.']\n",
            " ['I accidentally ingested a household cleaner.']\n",
            " [\"I'm having a little trouble with my usual asthma.\"]\n",
            " [\"I've been bitten by an unknown animal.\"]\n",
            " ['I feel a bit nauseous after eating.']\n",
            " [\"I'm experiencing sudden severe back pain and can't move.\"]\n",
            " [\"I have a recurring rash, but it's not worse than usual.\"]\n",
            " [\"I think I'm having a stroke.\"]\n",
            " [\"I've got a slight fever and a sore throat.\"]\n",
            " [\"I've fallen and I can't feel my legs.\"]\n",
            " ['I have a headache, but I get them often.']\n",
            " ['I am coughing blood and feel very weak.']\n",
            " [\"I've been feeling more tired than usual, but no other symptoms.\"]\n",
            " [\"I'm experiencing a severe allergic reaction.\"]\n",
            " ['I have some muscle pain after working out.']\n",
            " ['I have severe burns and need immediate help.']\n",
            " [\"I've been feeling a little anxious lately.\"]\n",
            " [\"I'm experiencing chest pain and severe shortness of breath.\"]\n",
            " ['I have a slight toothache.']\n",
            " ['I am having intense abdominal pain and vomiting.']\n",
            " [\"I've got a minor ankle sprain.\"]\n",
            " [\"I'm bleeding uncontrollably from a cut.\"]\n",
            " [\"I've been experiencing dry eyes.\"]\n",
            " ['I am having seizures and never had them before.']\n",
            " ['I have a mild headache, probably from dehydration.']\n",
            " [\"I've been experiencing chest pain and left arm numbness.\"]\n",
            " ['I feel a bit dizzy after standing up too quickly.']\n",
            " [\"I've lost consciousness and just woke up confused.\"]]\n"
          ]
        }
      ]
    },
    {
      "cell_type": "code",
      "source": [
        "print(y)"
      ],
      "metadata": {
        "colab": {
          "base_uri": "https://localhost:8080/"
        },
        "id": "LK_pkrzAJAKR",
        "outputId": "0faa9039-4e14-4258-f0c8-a1ed634cb602"
      },
      "execution_count": null,
      "outputs": [
        {
          "output_type": "stream",
          "name": "stdout",
          "text": [
            "[0 1 0 1 0 1 0 1 0 0 1 0 1 1 0 1 0 1 0 1 0 1 0 1 0 1 0 1 0 0 1 0 1 0 1 0 1\n",
            " 0 1 0 1 0 1 0 1 0 1 0 1 0 1 0 1 0 1 0 1 0 1 0 1 0 1 0 1 0 1 0 1 0 0 1 0 1\n",
            " 0 1 0 1 0 1 0 1 0 1 0 1 0 1 0 1 0 1 0 1 0 1 0 1 0 1 0 1 0 1 0 1 0 1 0 1]\n"
          ]
        }
      ]
    },
    {
      "cell_type": "code",
      "source": [
        "import re\n",
        "import nltk\n",
        "nltk.download('stopwords')\n",
        "from nltk.corpus import stopwords\n",
        "from nltk.stem.porter import PorterStemmer\n",
        "corpus = []\n",
        "for i in range(0, len(y)):\n",
        "  message = re.sub('[^a-zA-Z]', ' ', dataset['Message'][i])\n",
        "  message = message.lower()\n",
        "  message = message.split()\n",
        "  ps = PorterStemmer()\n",
        "  all_stopwords = stopwords.words('english')\n",
        "  all_stopwords.remove('not')\n",
        "  message = [ps.stem(word) for word in message if not word in set(all_stopwords)]\n",
        "  message = ' '.join(message)\n",
        "  corpus.append(message)"
      ],
      "metadata": {
        "colab": {
          "base_uri": "https://localhost:8080/"
        },
        "id": "BBu9Z7NoIt3N",
        "outputId": "e763115d-9514-4508-ad34-438590926988"
      },
      "execution_count": null,
      "outputs": [
        {
          "output_type": "stream",
          "name": "stderr",
          "text": [
            "[nltk_data] Downloading package stopwords to /root/nltk_data...\n",
            "[nltk_data]   Package stopwords is already up-to-date!\n"
          ]
        }
      ]
    },
    {
      "cell_type": "code",
      "source": [
        "print(corpus)"
      ],
      "metadata": {
        "colab": {
          "base_uri": "https://localhost:8080/"
        },
        "id": "HN1eo6-URCNE",
        "outputId": "c7f2b072-44b5-4778-f686-583e20a25c4c"
      },
      "execution_count": null,
      "outputs": [
        {
          "output_type": "stream",
          "name": "stdout",
          "text": [
            "['feel bit tire late', 'experienc chest pain difficulti breath', 'headach persist two week', 'stop cough run high fever', 'minor cut finger', 'sever allerg reaction', 'need prescript refil new symptom', 'fell leg odd angl move', 'troubl sleep recent', 'feel littl anxiou work', 'bleed profus feel dizzi', 'think ate someth bad not sure', 'sever abdomin pain', 'child swallow small toy', 'regular headach', 'vomit non stop hour', 'need updat medic histori', 'experienc short breath heart palpit', 'mild rash arm', 'think broke arm swollen pain', 'slip shower feel fine', 'chest pain left arm feel numb', 'slight fever symptom', 'experienc extrem difficulti breath', 'back pain sit', 'lost vision suddenli one eye', 'call regular check appoint', 'feel depress hopeless', 'stomach bit upset today', 'accident cut finger not deep', 'persist palpit dizzi', 'mild sore throat sinc morn', 'fallen get might broken someth', 'persist cough fever', 'sever headach blur vision', 'need advic medic side effect', 'experienc sudden sever pain lower abdomen', 'chronic condit new symptom', 'feel disori confus', 'small burn cook not seriou', 'experienc sever dehydr symptom', 'feel bit weather noth seriou', 'suddenli struggl speak clearli', 'long term condit check schedul', 'thought harm', 'leg swollen pain day', 'unabl move arm fall', 'chronic headach normal', 'experienc sever chest pain sweat', 'need new prescript regular medic', 'see doubl suddenli feel nauseou', 'experienc mild knee pain morn jog', 'think asthma attack find inhal', 'got bit sunburn beach', 'feel extrem weak heart race', 'earach bother', 'unabl swallow throat swell', 'feel bit bloat meal', 'intens sharp chest pain right', 'child low grade fever play eat well', 'shake uncontrol feel faint', 'sneez lot probabl allergi', 'experienc sudden sever headach', 'small rash bit itchi', 'difficulti breath face swell', 'feel littl dizzi stand fast', 'cough blood', 'toothach bother', 'experienc paralysi one side bodi', 'got minor headach probabl due dehydr', 'experienc chest discomfort come goe', 'suddenli see right eye', 'think food poison not vomit', 'experienc extrem pain abdomen vomit blood', 'sore throat mild cough', 'feel dizzi disori chest pain', 'chronic backach usual pain', 'sever difficulti breath feel faint', 'bit tire today probabl sleep well', 'lost feel leg suddenli', 'experienc mild occasion headach', 'sever chest pain feel lighthead', 'chronic cough chang recent', 'accident ingest household cleaner', 'littl troubl usual asthma', 'bitten unknown anim', 'feel bit nauseou eat', 'experienc sudden sever back pain move', 'recur rash not wors usual', 'think stroke', 'got slight fever sore throat', 'fallen feel leg', 'headach get often', 'cough blood feel weak', 'feel tire usual symptom', 'experienc sever allerg reaction', 'muscl pain work', 'sever burn need immedi help', 'feel littl anxiou late', 'experienc chest pain sever short breath', 'slight toothach', 'intens abdomin pain vomit', 'got minor ankl sprain', 'bleed uncontrol cut', 'experienc dri eye', 'seizur never', 'mild headach probabl dehydr', 'experienc chest pain left arm numb', 'feel bit dizzi stand quickli', 'lost conscious woke confus']\n"
          ]
        }
      ]
    },
    {
      "cell_type": "code",
      "source": [
        "from sklearn.feature_extraction.text import CountVectorizer\n",
        "cv = CountVectorizer(max_features = 100)\n",
        "X = cv.fit_transform(corpus).toarray()\n",
        "y = dataset.iloc[:, -1].values"
      ],
      "metadata": {
        "id": "rTuOa5_eSdi7"
      },
      "execution_count": null,
      "outputs": []
    },
    {
      "cell_type": "code",
      "source": [
        "print(cv)"
      ],
      "metadata": {
        "colab": {
          "base_uri": "https://localhost:8080/"
        },
        "id": "tW00z60lQ-zu",
        "outputId": "6893811a-5a45-4cb6-99dd-c4cedd06eaeb"
      },
      "execution_count": null,
      "outputs": [
        {
          "output_type": "stream",
          "name": "stdout",
          "text": [
            "CountVectorizer(max_features=100)\n"
          ]
        }
      ]
    },
    {
      "cell_type": "code",
      "source": [
        "print(len(X))"
      ],
      "metadata": {
        "colab": {
          "base_uri": "https://localhost:8080/"
        },
        "id": "yOC5cpQoRDK7",
        "outputId": "bd7560cb-8559-4f1d-e1b1-0747fffc495e"
      },
      "execution_count": null,
      "outputs": [
        {
          "output_type": "stream",
          "name": "stdout",
          "text": [
            "110\n"
          ]
        }
      ]
    },
    {
      "cell_type": "code",
      "source": [
        "print(y)"
      ],
      "metadata": {
        "colab": {
          "base_uri": "https://localhost:8080/"
        },
        "id": "0fYUraylQ1CS",
        "outputId": "38e6d3e7-02df-4bc5-b529-243d76e93df5"
      },
      "execution_count": null,
      "outputs": [
        {
          "output_type": "stream",
          "name": "stdout",
          "text": [
            "[0 1 0 1 0 1 0 1 0 0 1 0 1 1 0 1 0 1 0 1 0 1 0 1 0 1 0 1 0 0 1 0 1 0 1 0 1\n",
            " 0 1 0 1 0 1 0 1 0 1 0 1 0 1 0 1 0 1 0 1 0 1 0 1 0 1 0 1 0 1 0 1 0 0 1 0 1\n",
            " 0 1 0 1 0 1 0 1 0 1 0 1 0 1 0 1 0 1 0 1 0 1 0 1 0 1 0 1 0 1 0 1 0 1 0 1]\n"
          ]
        }
      ]
    },
    {
      "cell_type": "code",
      "source": [
        "print(len(X[2]))"
      ],
      "metadata": {
        "colab": {
          "base_uri": "https://localhost:8080/"
        },
        "id": "KBXi9bGzxg0I",
        "outputId": "c56ae805-921e-4185-af9c-ff694573d012"
      },
      "execution_count": null,
      "outputs": [
        {
          "output_type": "stream",
          "name": "stdout",
          "text": [
            "100\n"
          ]
        }
      ]
    },
    {
      "cell_type": "code",
      "source": [
        "from sklearn.model_selection import train_test_split\n",
        "X_train, X_test, y_train, y_test = train_test_split(X, y, test_size = 0.20, random_state = 0)"
      ],
      "metadata": {
        "id": "bN-upU-2SfK8"
      },
      "execution_count": null,
      "outputs": []
    },
    {
      "cell_type": "markdown",
      "source": [
        "## Training the Naive Bayes model on the Training set"
      ],
      "metadata": {
        "id": "F-SoPV2ASkCz"
      }
    },
    {
      "cell_type": "code",
      "source": [
        "from sklearn.naive_bayes import GaussianNB\n",
        "import joblib\n",
        "classifier = GaussianNB()\n",
        "classifier.fit(X_train, y_train)"
      ],
      "metadata": {
        "colab": {
          "base_uri": "https://localhost:8080/",
          "height": 74
        },
        "id": "EoVgO6PkSiiE",
        "outputId": "46e1422d-5ac0-443e-d79b-9c70115900d4"
      },
      "execution_count": null,
      "outputs": [
        {
          "output_type": "execute_result",
          "data": {
            "text/plain": [
              "GaussianNB()"
            ],
            "text/html": [
              "<style>#sk-container-id-1 {color: black;background-color: white;}#sk-container-id-1 pre{padding: 0;}#sk-container-id-1 div.sk-toggleable {background-color: white;}#sk-container-id-1 label.sk-toggleable__label {cursor: pointer;display: block;width: 100%;margin-bottom: 0;padding: 0.3em;box-sizing: border-box;text-align: center;}#sk-container-id-1 label.sk-toggleable__label-arrow:before {content: \"▸\";float: left;margin-right: 0.25em;color: #696969;}#sk-container-id-1 label.sk-toggleable__label-arrow:hover:before {color: black;}#sk-container-id-1 div.sk-estimator:hover label.sk-toggleable__label-arrow:before {color: black;}#sk-container-id-1 div.sk-toggleable__content {max-height: 0;max-width: 0;overflow: hidden;text-align: left;background-color: #f0f8ff;}#sk-container-id-1 div.sk-toggleable__content pre {margin: 0.2em;color: black;border-radius: 0.25em;background-color: #f0f8ff;}#sk-container-id-1 input.sk-toggleable__control:checked~div.sk-toggleable__content {max-height: 200px;max-width: 100%;overflow: auto;}#sk-container-id-1 input.sk-toggleable__control:checked~label.sk-toggleable__label-arrow:before {content: \"▾\";}#sk-container-id-1 div.sk-estimator input.sk-toggleable__control:checked~label.sk-toggleable__label {background-color: #d4ebff;}#sk-container-id-1 div.sk-label input.sk-toggleable__control:checked~label.sk-toggleable__label {background-color: #d4ebff;}#sk-container-id-1 input.sk-hidden--visually {border: 0;clip: rect(1px 1px 1px 1px);clip: rect(1px, 1px, 1px, 1px);height: 1px;margin: -1px;overflow: hidden;padding: 0;position: absolute;width: 1px;}#sk-container-id-1 div.sk-estimator {font-family: monospace;background-color: #f0f8ff;border: 1px dotted black;border-radius: 0.25em;box-sizing: border-box;margin-bottom: 0.5em;}#sk-container-id-1 div.sk-estimator:hover {background-color: #d4ebff;}#sk-container-id-1 div.sk-parallel-item::after {content: \"\";width: 100%;border-bottom: 1px solid gray;flex-grow: 1;}#sk-container-id-1 div.sk-label:hover label.sk-toggleable__label {background-color: #d4ebff;}#sk-container-id-1 div.sk-serial::before {content: \"\";position: absolute;border-left: 1px solid gray;box-sizing: border-box;top: 0;bottom: 0;left: 50%;z-index: 0;}#sk-container-id-1 div.sk-serial {display: flex;flex-direction: column;align-items: center;background-color: white;padding-right: 0.2em;padding-left: 0.2em;position: relative;}#sk-container-id-1 div.sk-item {position: relative;z-index: 1;}#sk-container-id-1 div.sk-parallel {display: flex;align-items: stretch;justify-content: center;background-color: white;position: relative;}#sk-container-id-1 div.sk-item::before, #sk-container-id-1 div.sk-parallel-item::before {content: \"\";position: absolute;border-left: 1px solid gray;box-sizing: border-box;top: 0;bottom: 0;left: 50%;z-index: -1;}#sk-container-id-1 div.sk-parallel-item {display: flex;flex-direction: column;z-index: 1;position: relative;background-color: white;}#sk-container-id-1 div.sk-parallel-item:first-child::after {align-self: flex-end;width: 50%;}#sk-container-id-1 div.sk-parallel-item:last-child::after {align-self: flex-start;width: 50%;}#sk-container-id-1 div.sk-parallel-item:only-child::after {width: 0;}#sk-container-id-1 div.sk-dashed-wrapped {border: 1px dashed gray;margin: 0 0.4em 0.5em 0.4em;box-sizing: border-box;padding-bottom: 0.4em;background-color: white;}#sk-container-id-1 div.sk-label label {font-family: monospace;font-weight: bold;display: inline-block;line-height: 1.2em;}#sk-container-id-1 div.sk-label-container {text-align: center;}#sk-container-id-1 div.sk-container {/* jupyter's `normalize.less` sets `[hidden] { display: none; }` but bootstrap.min.css set `[hidden] { display: none !important; }` so we also need the `!important` here to be able to override the default hidden behavior on the sphinx rendered scikit-learn.org. See: https://github.com/scikit-learn/scikit-learn/issues/21755 */display: inline-block !important;position: relative;}#sk-container-id-1 div.sk-text-repr-fallback {display: none;}</style><div id=\"sk-container-id-1\" class=\"sk-top-container\"><div class=\"sk-text-repr-fallback\"><pre>GaussianNB()</pre><b>In a Jupyter environment, please rerun this cell to show the HTML representation or trust the notebook. <br />On GitHub, the HTML representation is unable to render, please try loading this page with nbviewer.org.</b></div><div class=\"sk-container\" hidden><div class=\"sk-item\"><div class=\"sk-estimator sk-toggleable\"><input class=\"sk-toggleable__control sk-hidden--visually\" id=\"sk-estimator-id-1\" type=\"checkbox\" checked><label for=\"sk-estimator-id-1\" class=\"sk-toggleable__label sk-toggleable__label-arrow\">GaussianNB</label><div class=\"sk-toggleable__content\"><pre>GaussianNB()</pre></div></div></div></div></div>"
            ]
          },
          "metadata": {},
          "execution_count": 13
        }
      ]
    },
    {
      "cell_type": "code",
      "source": [
        "y_pred = classifier.predict(X_test)\n",
        "print(np.concatenate((y_pred.reshape(len(y_pred),1), y_test.reshape(len(y_test),1)),1))"
      ],
      "metadata": {
        "colab": {
          "base_uri": "https://localhost:8080/"
        },
        "id": "sPTQJh9sSqk0",
        "outputId": "24ade6ce-30e0-45a4-fa0f-c66941983715"
      },
      "execution_count": null,
      "outputs": [
        {
          "output_type": "stream",
          "name": "stdout",
          "text": [
            "[[1 1]\n",
            " [1 1]\n",
            " [1 1]\n",
            " [1 0]\n",
            " [1 0]\n",
            " [1 1]\n",
            " [1 1]\n",
            " [1 1]\n",
            " [0 0]\n",
            " [1 1]\n",
            " [1 1]\n",
            " [0 0]\n",
            " [1 0]\n",
            " [1 1]\n",
            " [0 0]\n",
            " [0 1]\n",
            " [0 1]\n",
            " [1 1]\n",
            " [0 0]\n",
            " [1 1]\n",
            " [1 1]\n",
            " [0 0]]\n"
          ]
        }
      ]
    },
    {
      "cell_type": "code",
      "source": [
        "from sklearn.metrics import confusion_matrix, accuracy_score\n",
        "cm = confusion_matrix(y_test, y_pred)\n",
        "print(cm)\n",
        "accuracy_score(y_test, y_pred)"
      ],
      "metadata": {
        "colab": {
          "base_uri": "https://localhost:8080/"
        },
        "id": "Qdf_wYdkSuHe",
        "outputId": "614e7920-c139-4160-cf23-8ecfed21f71c"
      },
      "execution_count": null,
      "outputs": [
        {
          "output_type": "stream",
          "name": "stdout",
          "text": [
            "[[ 5  3]\n",
            " [ 2 12]]\n"
          ]
        },
        {
          "output_type": "execute_result",
          "data": {
            "text/plain": [
              "0.7727272727272727"
            ]
          },
          "metadata": {},
          "execution_count": 15
        }
      ]
    },
    {
      "cell_type": "code",
      "source": [
        "import pickle"
      ],
      "metadata": {
        "id": "qhIrsOkYL3ZX"
      },
      "execution_count": null,
      "outputs": []
    },
    {
      "cell_type": "code",
      "source": [
        "with open('greedAI1.pkl','wb') as f:\n",
        "    pickle.dump(classifier,f)"
      ],
      "metadata": {
        "id": "roC20VuCMdU_"
      },
      "execution_count": null,
      "outputs": []
    },
    {
      "cell_type": "code",
      "source": [
        "# Save the fitted CountVectorizer\n",
        "with open('count_vectorizer.pkl', 'wb') as file:\n",
        "    pickle.dump(cv, file)"
      ],
      "metadata": {
        "id": "XtwTGM9GVl6-"
      },
      "execution_count": null,
      "outputs": []
    },
    {
      "cell_type": "markdown",
      "source": [
        "Load the Model"
      ],
      "metadata": {
        "id": "hIWg0jxVc-xg"
      }
    },
    {
      "cell_type": "code",
      "source": [
        "with open('greedAI1.pkl', 'rb') as file:\n",
        "    model = pickle.load(file)"
      ],
      "metadata": {
        "id": "sT1Q-JwEMovw"
      },
      "execution_count": null,
      "outputs": []
    },
    {
      "cell_type": "code",
      "source": [
        "with open('count_vectorizer.pkl', 'rb') as file:\n",
        "    loaded_cv = pickle.load(file)"
      ],
      "metadata": {
        "id": "5dZYnFpiXbpZ"
      },
      "execution_count": null,
      "outputs": []
    },
    {
      "cell_type": "code",
      "source": [
        "test_text = [\"I got knife stuck on my head\"]"
      ],
      "metadata": {
        "id": "ROJby9rXMqzZ"
      },
      "execution_count": null,
      "outputs": []
    },
    {
      "cell_type": "code",
      "source": [
        "corpus2 = []\n",
        "for i in range(0, len(test_text)):\n",
        "  message = re.sub('[^a-zA-Z]', ' ', test_text[i])\n",
        "  message = message.lower()\n",
        "  message = message.split()\n",
        "  ps = PorterStemmer()\n",
        "  all_stopwords = stopwords.words('english')\n",
        "  all_stopwords.remove('not')\n",
        "  message = [ps.stem(word) for word in message if not word in set(all_stopwords)]\n",
        "  message = ' '.join(message)\n",
        "  corpus2.append(message)"
      ],
      "metadata": {
        "id": "eKGQVP7JN0Ui"
      },
      "execution_count": null,
      "outputs": []
    },
    {
      "cell_type": "code",
      "source": [
        "print(corpus2)"
      ],
      "metadata": {
        "colab": {
          "base_uri": "https://localhost:8080/"
        },
        "id": "yHoy71TPOGZR",
        "outputId": "a6252d6a-90f9-4abe-bc57-b85e51fc9fc8"
      },
      "execution_count": null,
      "outputs": [
        {
          "output_type": "stream",
          "name": "stdout",
          "text": [
            "['got knife stuck head']\n"
          ]
        }
      ]
    },
    {
      "cell_type": "code",
      "source": [
        "new_data_transformed = loaded_cv.transform(corpus2).toarray()"
      ],
      "metadata": {
        "id": "E7Re9xoRWyBk"
      },
      "execution_count": null,
      "outputs": []
    },
    {
      "cell_type": "code",
      "source": [
        "print(new_data_transformed)"
      ],
      "metadata": {
        "colab": {
          "base_uri": "https://localhost:8080/"
        },
        "id": "o5rlurNUW0nc",
        "outputId": "7b57ea87-8e80-4d64-c0ba-d7725810221f"
      },
      "execution_count": null,
      "outputs": [
        {
          "output_type": "stream",
          "name": "stdout",
          "text": [
            "[[0 0 0 0 0 0 0 0 0 0 0 0 0 0 0 0 0 0 0 0 0 0 0 0 0 0 0 0 0 0 0 0 0 0 0 0\n",
            "  1 0 0 0 0 0 0 0 0 0 0 0 0 0 0 0 0 0 0 0 0 0 0 0 0 0 0 0 0 0 0 0 0 0 0 0\n",
            "  0 0 0 0 0 0 0 0 0 0 0 0 0 0 0 0 0 0 0 0 0 0 0 0 0 0 0 0]]\n"
          ]
        }
      ]
    },
    {
      "cell_type": "code",
      "source": [
        "\n",
        "# Make predictions\n",
        "prediction = clf2.predict(new_data_transformed)\n",
        "\n",
        "# Output the prediction\n",
        "print(\"Prediction: \", prediction)\n"
      ],
      "metadata": {
        "colab": {
          "base_uri": "https://localhost:8080/"
        },
        "id": "NyQmLMEFWPoO",
        "outputId": "4f7570ad-a48a-48cf-b043-eddaab086384"
      },
      "execution_count": null,
      "outputs": [
        {
          "output_type": "stream",
          "name": "stdout",
          "text": [
            "Prediction:  [0]\n"
          ]
        }
      ]
    }
  ]
}